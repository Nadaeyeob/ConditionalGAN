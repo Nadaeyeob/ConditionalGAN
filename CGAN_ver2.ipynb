{
 "cells": [
  {
   "cell_type": "markdown",
   "id": "e9d50c5e",
   "metadata": {},
   "source": [
    "###### 모듈화 해서 tf.function decorating 으로 Graph Section 최소화\n",
    "###### Noise 추가하여 Ch6로 진행\n",
    "###### As Is : Augmentation 도면과 결과물 1:1 매칭 → 도면 변화 X + 결과만 Crop 등 진행"
   ]
  },
  {
   "cell_type": "markdown",
   "id": "9182b5d4",
   "metadata": {},
   "source": [
    "### Version 2에서는 self.discriminator.trainable = False/True를 명시하여 진행"
   ]
  },
  {
   "cell_type": "code",
   "execution_count": 1,
   "id": "acabc923",
   "metadata": {},
   "outputs": [
    {
     "name": "stderr",
     "output_type": "stream",
     "text": [
      "2023-05-23 12:11:15.761024: W tensorflow/compiler/tf2tensorrt/utils/py_utils.cc:38] TF-TRT Warning: Could not find TensorRT\n"
     ]
    }
   ],
   "source": [
    "import cv2 as cv\n",
    "import numpy as np\n",
    "import matplotlib.pyplot as plt\n",
    "import tensorflow as tf\n",
    "%matplotlib inline\n",
    "import random\n",
    "import time\n",
    "from IPython.display import clear_output\n",
    "import os\n",
    "import glob"
   ]
  },
  {
   "cell_type": "code",
   "execution_count": null,
   "id": "3cbedfe3",
   "metadata": {},
   "outputs": [],
   "source": []
  },
  {
   "cell_type": "code",
   "execution_count": null,
   "id": "463a43a4",
   "metadata": {},
   "outputs": [],
   "source": [
    "# drawing_list = []\n",
    "# drawing_cycle_gan = cv.imread('C:\\\\Users\\\\sw991\\\\project\\\\230501_GAN\\\\image_data\\\\drawing_cycle_gan.jpg')\n",
    "# drawing_target = cv.imread('C:\\\\Users\\\\sw991\\\\project\\\\230501_GAN\\\\image_data\\\\drawing_target.jpg')\n",
    "# drawing_c_gan_1 = cv.imread('C:\\\\Users\\\\sw991\\\\project\\\\230501_GAN\\\\image_data\\\\drawing_c_gan_1.jpg')\n",
    "# drawing_c_gan_3 = cv.imread('C:\\\\Users\\\\sw991\\\\project\\\\230501_GAN\\\\image_data\\\\drawing_c_gan_3.jpg')\n",
    "\n",
    "# drawing_list.append(drawing_cycle_gan)\n",
    "# drawing_list.append(drawing_target)\n",
    "# drawing_list.append(drawing_c_gan_1)\n",
    "# drawing_list.append(drawing_c_gan_3)"
   ]
  },
  {
   "cell_type": "code",
   "execution_count": null,
   "id": "02903cb1",
   "metadata": {},
   "outputs": [],
   "source": [
    "# Drawing은 Segmentation 진행 후 Resize 필요\n",
    "\n",
    "def drawing_segmentation(img):\n",
    "    gray = cv.cvtColor(img, cv.COLOR_BGR2GRAY)\n",
    "    # Kernel Size 조절해가면서 시도 필요\n",
    "    k = cv.getStructuringElement(cv.MORPH_RECT, (3,3))\n",
    "    erosion = cv.erode(gray,k)\n",
    "    ret, thr = cv.threshold(erosion, 0, 255, cv.THRESH_OTSU)\n",
    "    cnt, label = cv.connectedComponents(thr)\n",
    "    bg_img = np.zeros_like(img)\n",
    "    \n",
    "    return bg_img, cnt, label, erosion, gray"
   ]
  },
  {
   "cell_type": "code",
   "execution_count": null,
   "id": "cef98f77",
   "metadata": {},
   "outputs": [],
   "source": [
    "colors = []\n",
    "for n, img in enumerate(drawing_list):\n",
    "    bg_img, cnt, label, erosion, gray = drawing_segmentation(img)\n",
    "   \n",
    "    for i in range(cnt):\n",
    "        if n == 0:\n",
    "            color = [int(j) for j in np.random.randint(0,255,3)]\n",
    "            bg_img[label==i] = color\n",
    "            colors.append(color)\n",
    "        else:\n",
    "            bg_img[label==i] = colors[i]\n",
    "    \n",
    "    if max(bg_img.shape)>256:\n",
    "        scale = 256/max(bg_img.shape)\n",
    "        bg_img = cv.resize(bg_img, dsize=(256,256))\n",
    "        img = img / 127.5 - 1\n",
    "    \n",
    "    drawing_list[n] = bg_img\n",
    "    "
   ]
  },
  {
   "cell_type": "code",
   "execution_count": null,
   "id": "315fad44",
   "metadata": {},
   "outputs": [],
   "source": [
    "fig, axs = plt.subplots(nrows = 1, ncols = 4)\n",
    "for i in range(len(drawing_list)):\n",
    "    axs[i].imshow(drawing_list[i])"
   ]
  },
  {
   "cell_type": "code",
   "execution_count": null,
   "id": "3cf5ae94",
   "metadata": {},
   "outputs": [],
   "source": [
    "dir_list = os.listdir('C:\\\\Users\\\\sw991\\\\project\\\\230501_GAN\\\\image_data\\\\')"
   ]
  },
  {
   "cell_type": "code",
   "execution_count": null,
   "id": "7f9202e3",
   "metadata": {},
   "outputs": [],
   "source": [
    "cycle_gan_list = [file for file in dir_list if file.startswith(\"cycle_gan\") and file.endswith('.jpg')]\n",
    "c_gan_1_list = [file for file in dir_list if file.startswith(\"c_gan_1\") and file.endswith('.jpg')]\n",
    "c_gan_3_list = [file for file in dir_list if file.startswith(\"c_gan_3\") and file.endswith('.jpg')]\n",
    "c_gan_2_list = [file for file in dir_list if file.startswith(\"c_gan_2\") and file.endswith('.jpg')]"
   ]
  },
  {
   "cell_type": "code",
   "execution_count": null,
   "id": "d0166398",
   "metadata": {},
   "outputs": [],
   "source": [
    "def preprocessing_img(path):\n",
    "    img = cv.imread(path)\n",
    "    if max(img.shape)>256:\n",
    "        scale = 256/max(img.shape)\n",
    "        img = cv.resize(img, dsize=(256,256))\n",
    "        img = img / 127.5 - 1    \n",
    "    return img"
   ]
  },
  {
   "cell_type": "code",
   "execution_count": null,
   "id": "5b61ca19",
   "metadata": {},
   "outputs": [],
   "source": [
    "def preprocessing_list(lists):\n",
    "    for i, address in enumerate(lists):\n",
    "        if address.endswith('.npy'):\n",
    "            pass\n",
    "        else:\n",
    "            path = os.path.join(\"C:\\\\Users\\\\sw991\\\\project\\\\230501_GAN\\\\image_data\", address)\n",
    "            img = preprocessing_img(path)\n",
    "            print(path)\n",
    "\n",
    "            lists[i] = img"
   ]
  },
  {
   "cell_type": "code",
   "execution_count": null,
   "id": "d04ce6fd",
   "metadata": {},
   "outputs": [],
   "source": [
    "preprocessing_list(cycle_gan_list)\n",
    "preprocessing_list(c_gan_1_list)\n",
    "preprocessing_list(c_gan_3_list)"
   ]
  },
  {
   "cell_type": "code",
   "execution_count": null,
   "id": "660619ba",
   "metadata": {},
   "outputs": [],
   "source": [
    "def data_augmentation(drawing, real):\n",
    "        \n",
    "    x1 = random.randint(0,20)\n",
    "    x2 = x1 + 235\n",
    "\n",
    "    y1 = random.randint(0,20)\n",
    "    y2 = y1 + 235\n",
    "    new_drawing = drawing[y1:y2,x1:x2,:]\n",
    "    new_real = real[y1:y2,x1:x2,:]\n",
    "\n",
    "    new_drawing = cv.resize(new_drawing, dsize=(drawing.shape[1], drawing.shape[0]))\n",
    "    new_real = cv.resize(new_real, dsize=(drawing.shape[1], drawing.shape[0]))\n",
    "        \n",
    "    (h, w) = drawing.shape[:2]\n",
    "    (cx, cy) = (w/2, h/2)\n",
    "    angle = np.random.randint(0,360)\n",
    "    matrix = cv.getRotationMatrix2D((cx,cy),angle,1.0)\n",
    "    new_drawing = cv.warpAffine(new_drawing, matrix, (w,h))\n",
    "    new_real = cv.warpAffine(new_real, matrix, (w,h))\n",
    "    \n",
    "    mode = random.randint(-1,2)\n",
    "    if mode != 2:\n",
    "        new_drawing = cv.flip(new_drawing, mode)\n",
    "        new_real = cv.flip(new_real, mode)\n",
    "    else:\n",
    "        pass\n",
    "\n",
    "    return new_drawing, new_real\n",
    "    "
   ]
  },
  {
   "cell_type": "code",
   "execution_count": null,
   "id": "84b9654e",
   "metadata": {},
   "outputs": [],
   "source": [
    "def list_augmentation(drawings, reals):\n",
    "    for iteration in range(300):\n",
    "        idx = np.random.randint(0,len(reals))\n",
    "        drawing, real = data_augmentation(drawings, reals[idx])\n",
    "\n",
    "        drawing = np.expand_dims(drawing, axis = 0)\n",
    "        real = np.expand_dims(real, axis = 0)\n",
    "        if iteration == 0:\n",
    "            drawing_numpy = drawing\n",
    "            real_numpy = real\n",
    "        else:\n",
    "            drawing_numpy = np.vstack((drawing_numpy, drawing))\n",
    "            real_numpy = np.vstack((real_numpy, real))\n",
    "    return drawing_numpy, real_numpy"
   ]
  },
  {
   "cell_type": "code",
   "execution_count": null,
   "id": "157b8c9c",
   "metadata": {},
   "outputs": [],
   "source": [
    "a,b = list_augmentation(drawing_list[0], cycle_gan_list)\n",
    "c,d = list_augmentation(drawing_list[2], c_gan_1_list)\n",
    "e,f = list_augmentation(drawing_list[3], c_gan_3_list)\n"
   ]
  },
  {
   "cell_type": "code",
   "execution_count": null,
   "id": "1ece3852",
   "metadata": {},
   "outputs": [],
   "source": [
    "print(a.shape, b.shape, c.shape, d.shape, e.shape, f.shape)"
   ]
  },
  {
   "cell_type": "code",
   "execution_count": null,
   "id": "0c6e4ca4",
   "metadata": {},
   "outputs": [],
   "source": [
    "np.save('C:\\\\Users\\\\sw991\\\\project\\\\230501_GAN\\\\image_data\\\\cycle_gan_drawing',a)\n",
    "np.save('C:\\\\Users\\\\sw991\\\\project\\\\230501_GAN\\\\image_data\\\\cycle_gan_img',b)\n",
    "\n",
    "np.save('C:\\\\Users\\\\sw991\\\\project\\\\230501_GAN\\\\image_data\\\\c_gan_1_drawing',c)\n",
    "np.save('C:\\\\Users\\\\sw991\\\\project\\\\230501_GAN\\\\image_data\\\\c_gan_1_img',d)\n",
    "\n",
    "np.save('C:\\\\Users\\\\sw991\\\\project\\\\230501_GAN\\\\image_data\\\\c_gan_3_drawing',e)\n",
    "np.save('C:\\\\Users\\\\sw991\\\\project\\\\230501_GAN\\\\image_data\\\\c_gan_3_img',f)\n",
    "\n",
    "np.save('C:\\\\Users\\\\sw991\\\\project\\\\230501_GAN\\\\image_data\\\\drawing_list',drawing_list)"
   ]
  },
  {
   "cell_type": "code",
   "execution_count": null,
   "id": "826100ae",
   "metadata": {},
   "outputs": [],
   "source": [
    "ls"
   ]
  },
  {
   "cell_type": "code",
   "execution_count": null,
   "id": "34a89d2c",
   "metadata": {},
   "outputs": [],
   "source": []
  },
  {
   "cell_type": "code",
   "execution_count": 2,
   "id": "83f46089",
   "metadata": {},
   "outputs": [],
   "source": [
    "# cycle_gan_drawing = np.load('./image_data/cycle_gan_drawing.npy')\n",
    "cycle_gan_img = np.load('./image_data/cycle_gan_img.npy')\n",
    "\n",
    "# c_gan_1_drawing = np.load('./image_data/c_gan_1_drawing.npy')\n",
    "c_gan_1_img = np.load('./image_data/c_gan_1_img.npy')\n",
    "\n",
    "# c_gan_3_drawing = np.load('./image_data/c_gan_3_drawing.npy')\n",
    "c_gan_3_img = np.load('./image_data/c_gan_3_img.npy')"
   ]
  },
  {
   "cell_type": "code",
   "execution_count": 3,
   "id": "7361ebd4",
   "metadata": {},
   "outputs": [
    {
     "name": "stdout",
     "output_type": "stream",
     "text": [
      "(900, 256, 256, 3)\n"
     ]
    }
   ],
   "source": [
    "all_digit = np.vstack((cycle_gan_img, c_gan_1_img))\n",
    "all_digit = np.vstack((all_digit, c_gan_3_img))\n",
    "print(all_digit.shape)"
   ]
  },
  {
   "cell_type": "code",
   "execution_count": 4,
   "id": "7a0d08e8",
   "metadata": {},
   "outputs": [
    {
     "name": "stdout",
     "output_type": "stream",
     "text": [
      "(900, 1)\n"
     ]
    }
   ],
   "source": [
    "label_0 = np.expand_dims(np.zeros((300,)), axis = -1)\n",
    "label_1 = np.expand_dims(np.ones((300,)), axis = -1)\n",
    "label_3 = np.expand_dims(np.ones((300,)) * 3, axis = -1)\n",
    "\n",
    "all_label = np.vstack((label_0, label_1))\n",
    "all_label = np.vstack((all_label, label_3))\n",
    "print(all_label.shape)"
   ]
  },
  {
   "cell_type": "code",
   "execution_count": 5,
   "id": "af6b174b",
   "metadata": {},
   "outputs": [],
   "source": [
    "all_data = [all_digit, all_label]"
   ]
  },
  {
   "cell_type": "code",
   "execution_count": 6,
   "id": "a5502437",
   "metadata": {},
   "outputs": [
    {
     "name": "stderr",
     "output_type": "stream",
     "text": [
      "/home/nad/miniconda3/envs/piptest1/lib/python3.9/site-packages/tensorflow_addons/utils/tfa_eol_msg.py:23: UserWarning: \n",
      "\n",
      "TensorFlow Addons (TFA) has ended development and introduction of new features.\n",
      "TFA has entered a minimal maintenance and release mode until a planned end of life in May 2024.\n",
      "Please modify downstream libraries to take dependencies from other repositories in our TensorFlow community (e.g. Keras, Keras-CV, and Keras-NLP). \n",
      "\n",
      "For more information see: https://github.com/tensorflow/addons/issues/2807 \n",
      "\n",
      "  warnings.warn(\n"
     ]
    }
   ],
   "source": [
    "from tensorflow.keras.models import Model, Sequential\n",
    "from tensorflow.keras.layers import LeakyReLU, Conv2D, Conv2DTranspose, UpSampling2D, Input, Concatenate, Activation, Embedding\n",
    "from tensorflow.keras.layers import Dense, Reshape, BatchNormalization, Flatten, Multiply, GlobalMaxPooling2D\n",
    "from tensorflow_addons.layers import InstanceNormalization\n",
    "from tensorflow.keras.optimizers import Adam\n",
    "import tensorflow as tf\n",
    "from tensorflow import keras\n",
    "from tensorflow.keras import layers"
   ]
  },
  {
   "cell_type": "code",
   "execution_count": 7,
   "id": "ce75a488",
   "metadata": {},
   "outputs": [
    {
     "name": "stderr",
     "output_type": "stream",
     "text": [
      "Clipping input data to the valid range for imshow with RGB data ([0..1] for floats or [0..255] for integers).\n"
     ]
    },
    {
     "data": {
      "text/plain": [
       "<matplotlib.image.AxesImage at 0x7feb97fe82b0>"
      ]
     },
     "execution_count": 7,
     "metadata": {},
     "output_type": "execute_result"
    },
    {
     "data": {
      "image/png": "[encoded data removed]",
      "text/plain": [
       "<Figure size 640x480 with 1 Axes>"
      ]
     },
     "metadata": {},
     "output_type": "display_data"
    }
   ],
   "source": [
    "plt.imshow(all_digit[1])"
   ]
  },
  {
   "cell_type": "code",
   "execution_count": 8,
   "id": "8e446578",
   "metadata": {},
   "outputs": [],
   "source": [
    "image_size = 256\n",
    "z_dim = 128\n",
    "image_shape = (image_size, image_size, 3)"
   ]
  },
  {
   "cell_type": "code",
   "execution_count": 9,
   "id": "1b404fc0",
   "metadata": {},
   "outputs": [],
   "source": [
    "# generator의 Input이 z_dim + label's channel 임을 확인\n",
    "def Generator(z_dim):\n",
    "    input_tensor = Input(shape=(z_dim+1,))\n",
    "    x = Dense(256*8*8)(input_tensor)\n",
    "    x = LeakyReLU(alpha = 0.2)(x)\n",
    "    x = Reshape((8,8,256))(x)\n",
    "    \n",
    "    # 16 * 16 * 128\n",
    "    x = Conv2DTranspose(128, kernel_size = 3, strides = 2, padding = 'same')(x)\n",
    "    x = LeakyReLU(alpha = 0.2)(x)\n",
    "\n",
    "    # 32 * 32 * 64\n",
    "    x = Conv2DTranspose(64, kernel_size = 3, strides = 2, padding = 'same')(x)\n",
    "    x = LeakyReLU(alpha = 0.2)(x)\n",
    "\n",
    "    # 64 * 64 * 32\n",
    "    x = Conv2DTranspose(32, kernel_size = 3, strides = 2, padding = 'same')(x)\n",
    "    x = LeakyReLU(alpha = 0.2)(x)\n",
    "\n",
    "    # 128 * 128 * 16\n",
    "    x = Conv2DTranspose(16, kernel_size = 3, strides = 2, padding = 'same')(x)\n",
    "    x = LeakyReLU(alpha = 0.2)(x)\n",
    "    \n",
    "    # 256 * 256 * 8\n",
    "    x = Conv2DTranspose(8, kernel_size = 3, strides = 2, padding = 'same')(x)\n",
    "    x = LeakyReLU(alpha = 0.2)(x)\n",
    "    \n",
    "    # 256 * 256 * 3\n",
    "    x = Conv2D(3, kernel_size = 3, strides = 1, \n",
    "                        padding = 'same')(x)\n",
    "    output = Activation('sigmoid')(x)\n",
    "    \n",
    "    \n",
    "    model = Model(input_tensor, output)\n",
    "    \n",
    "    return model"
   ]
  },
  {
   "cell_type": "code",
   "execution_count": 10,
   "id": "64302d59",
   "metadata": {},
   "outputs": [],
   "source": [
    "# Discriminator의 Input이 (Img_size, Img_size, RGB + label's channel) 임을 확인\n",
    "def Discriminator():\n",
    "    input_tensor = Input(shape=(256,256,4))\n",
    "    \n",
    "    # 128 * 128 * 8\n",
    "    x = Conv2D(8, kernel_size = 3, strides = 2, padding = 'same')(input_tensor)\n",
    "    x = layers.LeakyReLU(alpha=0.2)(x)\n",
    "    \n",
    "    # 64 * 64 * 16\n",
    "    x = Conv2D(16, kernel_size = 3, strides = 2, padding = 'same')(x)\n",
    "    x = layers.LeakyReLU(alpha=0.2)(x)\n",
    "    \n",
    "    # 32 * 32 * 32\n",
    "    x = Conv2D(16, kernel_size = 3, strides = 2, padding = 'same')(x)\n",
    "    x = layers.LeakyReLU(alpha=0.2)(x)\n",
    "    \n",
    "    # 16 * 16 * 64\n",
    "    x = Conv2D(16, kernel_size = 3, strides = 2, padding = 'same')(x)\n",
    "    x = layers.LeakyReLU(alpha=0.2)(x)\n",
    "    \n",
    "    # 8 * 8 * 128\n",
    "    x = Conv2D(16, kernel_size = 3, strides = 2, padding = 'same')(x)\n",
    "    x = layers.LeakyReLU(alpha=0.2)(x)\n",
    "    \n",
    "    x = GlobalMaxPooling2D()(x)\n",
    "    output = layers.Dense(1)(x)\n",
    "    \n",
    "    model = Model(input_tensor, output)\n",
    "    return model"
   ]
  },
  {
   "cell_type": "code",
   "execution_count": 11,
   "id": "6352d440",
   "metadata": {},
   "outputs": [],
   "source": [
    "generator = Generator(z_dim)\n",
    "discriminator = Discriminator()"
   ]
  },
  {
   "cell_type": "code",
   "execution_count": 12,
   "id": "51bb409a",
   "metadata": {},
   "outputs": [
    {
     "name": "stdout",
     "output_type": "stream",
     "text": [
      "Model: \"model\"\n",
      "_________________________________________________________________\n",
      " Layer (type)                Output Shape              Param #   \n",
      "=================================================================\n",
      " input_1 (InputLayer)        [(None, 129)]             0         \n",
      "                                                                 \n",
      " dense (Dense)               (None, 16384)             2129920   \n",
      "                                                                 \n",
      " leaky_re_lu (LeakyReLU)     (None, 16384)             0         \n",
      "                                                                 \n",
      " reshape (Reshape)           (None, 8, 8, 256)         0         \n",
      "                                                                 \n",
      " conv2d_transpose (Conv2DTra  (None, 16, 16, 128)      295040    \n",
      " nspose)                                                         \n",
      "                                                                 \n",
      " leaky_re_lu_1 (LeakyReLU)   (None, 16, 16, 128)       0         \n",
      "                                                                 \n",
      " conv2d_transpose_1 (Conv2DT  (None, 32, 32, 64)       73792     \n",
      " ranspose)                                                       \n",
      "                                                                 \n",
      " leaky_re_lu_2 (LeakyReLU)   (None, 32, 32, 64)        0         \n",
      "                                                                 \n",
      " conv2d_transpose_2 (Conv2DT  (None, 64, 64, 32)       18464     \n",
      " ranspose)                                                       \n",
      "                                                                 \n",
      " leaky_re_lu_3 (LeakyReLU)   (None, 64, 64, 32)        0         \n",
      "                                                                 \n",
      " conv2d_transpose_3 (Conv2DT  (None, 128, 128, 16)     4624      \n",
      " ranspose)                                                       \n",
      "                                                                 \n",
      " leaky_re_lu_4 (LeakyReLU)   (None, 128, 128, 16)      0         \n",
      "                                                                 \n",
      " conv2d_transpose_4 (Conv2DT  (None, 256, 256, 8)      1160      \n",
      " ranspose)                                                       \n",
      "                                                                 \n",
      " leaky_re_lu_5 (LeakyReLU)   (None, 256, 256, 8)       0         \n",
      "                                                                 \n",
      " conv2d (Conv2D)             (None, 256, 256, 3)       219       \n",
      "                                                                 \n",
      " activation (Activation)     (None, 256, 256, 3)       0         \n",
      "                                                                 \n",
      "=================================================================\n",
      "Total params: 2,523,219\n",
      "Trainable params: 2,523,219\n",
      "Non-trainable params: 0\n",
      "_________________________________________________________________\n"
     ]
    }
   ],
   "source": [
    "generator.summary()"
   ]
  },
  {
   "cell_type": "code",
   "execution_count": 13,
   "id": "3b7793e6",
   "metadata": {},
   "outputs": [
    {
     "name": "stdout",
     "output_type": "stream",
     "text": [
      "Model: \"model_1\"\n",
      "_________________________________________________________________\n",
      " Layer (type)                Output Shape              Param #   \n",
      "=================================================================\n",
      " input_2 (InputLayer)        [(None, 256, 256, 4)]     0         \n",
      "                                                                 \n",
      " conv2d_1 (Conv2D)           (None, 128, 128, 8)       296       \n",
      "                                                                 \n",
      " leaky_re_lu_6 (LeakyReLU)   (None, 128, 128, 8)       0         \n",
      "                                                                 \n",
      " conv2d_2 (Conv2D)           (None, 64, 64, 16)        1168      \n",
      "                                                                 \n",
      " leaky_re_lu_7 (LeakyReLU)   (None, 64, 64, 16)        0         \n",
      "                                                                 \n",
      " conv2d_3 (Conv2D)           (None, 32, 32, 16)        2320      \n",
      "                                                                 \n",
      " leaky_re_lu_8 (LeakyReLU)   (None, 32, 32, 16)        0         \n",
      "                                                                 \n",
      " conv2d_4 (Conv2D)           (None, 16, 16, 16)        2320      \n",
      "                                                                 \n",
      " leaky_re_lu_9 (LeakyReLU)   (None, 16, 16, 16)        0         \n",
      "                                                                 \n",
      " conv2d_5 (Conv2D)           (None, 8, 8, 16)          2320      \n",
      "                                                                 \n",
      " leaky_re_lu_10 (LeakyReLU)  (None, 8, 8, 16)          0         \n",
      "                                                                 \n",
      " global_max_pooling2d (Globa  (None, 16)               0         \n",
      " lMaxPooling2D)                                                  \n",
      "                                                                 \n",
      " dense_1 (Dense)             (None, 1)                 17        \n",
      "                                                                 \n",
      "=================================================================\n",
      "Total params: 8,441\n",
      "Trainable params: 8,441\n",
      "Non-trainable params: 0\n",
      "_________________________________________________________________\n"
     ]
    }
   ],
   "source": [
    "discriminator.summary()"
   ]
  },
  {
   "cell_type": "code",
   "execution_count": 14,
   "id": "93b5e2f3",
   "metadata": {},
   "outputs": [],
   "source": [
    "class ConditionalGAN(keras.Model):\n",
    "    def __init__(self, discriminator, generator, z_dim):\n",
    "        super().__init__()\n",
    "        self.discriminator = discriminator\n",
    "        self.generator = generator\n",
    "        self.z_dim = z_dim\n",
    "        self.gen_loss_tracker = keras.metrics.Mean()\n",
    "        self.disc_loss_tracker = keras.metrics.Mean()\n",
    "        \n",
    "    @property\n",
    "    def metrics(self):\n",
    "        return [self.gen_loss_tracker, self.disc_loss_tracker]\n",
    "    \n",
    "    def compile(self, d_optimizer, g_optimizer, loss_fn):\n",
    "        super().compile()\n",
    "        self.d_optimizer = d_optimizer\n",
    "        self.g_optimizer = g_optimizer\n",
    "        self.loss_fn = loss_fn\n",
    "        \n",
    "    # Data 넣어줬을 때 Shape[0]이 곧 Batch_size로 써도 가능\n",
    "    @tf.function\n",
    "    def train_step(self, data, batch_size ):\n",
    "        raw_real_imgs = data[0]\n",
    "        raw_labels = data[1]\n",
    "        # data 항목에 One-hot encoding 진행하여 Input\n",
    "        # 소수점 등 집어넣기 위해 일단 OH encoding 미실시\n",
    "        \n",
    "        # idx = np.random.randint(0,raw_real_imgs.shape[0],batch_size)\n",
    "        \n",
    "        idx = list(np.random.randint(0,raw_real_imgs.shape[0],batch_size))\n",
    "        \n",
    "        # real_imgs = raw_real_imgs[idx]\n",
    "        real_imgs = tf.gather(raw_real_imgs, indices = idx)\n",
    "        real_imgs = tf.cast(real_imgs, tf.float32)\n",
    "        \n",
    "        # labels = raw_labels[idx]\n",
    "        labels = tf.gather(raw_labels, indices = idx)\n",
    "        labels = tf.cast(labels, tf.float32)\n",
    "                \n",
    "        # label > 256*256*1 size Layer로 만들어 concat 진행\n",
    "        img_labels = tf.repeat(labels, repeats = [image_size * image_size])\n",
    "        img_labels = tf.reshape(img_labels, shape=(-1, image_size,\n",
    "                                                  image_size, 1))\n",
    "        img_labels = tf.cast(img_labels, tf.float32)\n",
    "        \n",
    "        # discriminator 훈련 진행\n",
    "        z_dim_vector = tf.random.normal(shape = (batch_size, self.z_dim))\n",
    "        random_vector_labels = tf.concat([z_dim_vector, labels], axis = 1)\n",
    "        #random_vector_labels의 shape이 (Batch_size, channel)이고, Generator Input과 같아야함\n",
    "    \n",
    "        generated_imgs = self.generator(random_vector_labels)\n",
    "\n",
    "\n",
    "        fake_imgs_and_labels = tf.concat([generated_imgs, img_labels], axis = -1)\n",
    "        real_imgs_and_labels = tf.concat([real_imgs, img_labels], axis = -1)\n",
    "        \n",
    "        combined_imgs = tf.concat([fake_imgs_and_labels, real_imgs_and_labels], \n",
    "                                 axis = 0)\n",
    "        \n",
    "        combined_labels = tf.concat([tf.ones((batch_size,1)), tf.zeros((batch_size,1))],\n",
    "                          axis = 0)\n",
    "        \n",
    "        with tf.GradientTape() as tape:\n",
    "            predictions = self.discriminator(combined_imgs)\n",
    "            d_loss = self.loss_fn(combined_labels, predictions)\n",
    "            \n",
    "        grads = tape.gradient(d_loss, self.discriminator.trainable_weights)\n",
    "        self.d_optimizer.apply_gradients(zip(grads, \n",
    "                                             self.discriminator.trainable_weights))\n",
    "        \n",
    "        \n",
    "        self.discriminator.trainable = False\n",
    "        # generator 훈련 할 때 Discriminator를 훈련하지 않는 것인지 확인 필요\n",
    "        z_dim_vector = tf.random.normal(shape = (batch_size, self.z_dim))\n",
    "        random_vector_labels = tf.concat([z_dim_vector, labels], axis = 1)\n",
    "        misleading_labels = tf.zeros((batch_size,1))\n",
    "        \n",
    "        with tf.GradientTape() as tape:\n",
    "            fake_images = self.generator(random_vector_labels)\n",
    "            fake_image_and_labels = tf.concat([fake_images, img_labels], axis = -1)\n",
    "            predictions = self.discriminator(fake_image_and_labels)\n",
    "            g_loss = self.loss_fn(misleading_labels, predictions)\n",
    "            \n",
    "        grads = tape.gradient(g_loss, self.generator.trainable_weights)\n",
    "        self.g_optimizer.apply_gradients(zip(grads, self.generator.trainable_weights))\n",
    "        \n",
    "        self.discriminator.trainable = True\n",
    "\n",
    "        # Monitor loss.\n",
    "        self.gen_loss_tracker.update_state(g_loss)\n",
    "        self.disc_loss_tracker.update_state(d_loss)\n",
    "        return {\n",
    "            \"g_loss\": self.gen_loss_tracker.result(),\n",
    "            \"d_loss\": self.disc_loss_tracker.result(),\n",
    "        }\n",
    "        \n",
    "        \n",
    "        "
   ]
  },
  {
   "cell_type": "code",
   "execution_count": 15,
   "id": "7e8c4ccd",
   "metadata": {},
   "outputs": [],
   "source": [
    "cond_gan = ConditionalGAN(discriminator=discriminator, \n",
    "                          generator=generator, \n",
    "                          z_dim=z_dim)\n",
    "cond_gan.compile(d_optimizer=keras.optimizers.Adam(learning_rate=0.0003),\n",
    "                 g_optimizer=keras.optimizers.Adam(learning_rate=0.0003),\n",
    "                 loss_fn=keras.losses.BinaryCrossentropy(from_logits=True))"
   ]
  },
  {
   "cell_type": "code",
   "execution_count": 16,
   "id": "54239cac",
   "metadata": {},
   "outputs": [],
   "source": [
    "def generate_images(model, epoch, z_dim):\n",
    "    test_labels = np.array([[0],[1],[2],[3]])\n",
    "    z_dim_vector = tf.random.normal(shape = (4, z_dim))\n",
    "    random_vector_labels = tf.concat([z_dim_vector, test_labels], axis = 1)\n",
    "\n",
    "    prediction = model(random_vector_labels)\n",
    "    plt.figure(figsize=(24, 12))\n",
    "    title = ['0', '1', '2', '3']\n",
    "\n",
    "    for i in range(test_labels.shape[0]):\n",
    "        \n",
    "        plt.subplot(1, test_labels.shape[0], i+1)\n",
    "        plt.title(title[i])\n",
    "        # getting the pixel values between [0, 1] to plot it.\n",
    "        plt.imshow(prediction[i] * 0.5 + 0.5)\n",
    "        plt.axis('off')\n",
    "    plt.savefig('./image/Conditional_GAN_Image 1800+%d.png' %(epoch+1))\n",
    "    # Plt.show() 전에 저장 필요\n",
    "    plt.show()\n"
   ]
  },
  {
   "cell_type": "code",
   "execution_count": 17,
   "id": "1bbfe4b5",
   "metadata": {},
   "outputs": [],
   "source": [
    "epochs = 1000000\n",
    "batch_size = 32"
   ]
  },
  {
   "cell_type": "code",
   "execution_count": null,
   "id": "ddab8394",
   "metadata": {},
   "outputs": [],
   "source": [
    "cond_gan.load_weights('./checkpoints/my_checkpoint')"
   ]
  },
  {
   "cell_type": "code",
   "execution_count": null,
   "id": "02181d4a",
   "metadata": {},
   "outputs": [
    {
     "name": "stderr",
     "output_type": "stream",
     "text": [
      "2023-05-23 12:12:06.520663: W tensorflow/tsl/framework/cpu_allocator_impl.cc:83] Allocation of 1415577600 exceeds 10% of free system memory.\n",
      "2023-05-23 12:12:08.832983: W tensorflow/tsl/framework/cpu_allocator_impl.cc:83] Allocation of 1415577600 exceeds 10% of free system memory.\n",
      "2023-05-23 12:12:16.727598: W tensorflow/tsl/framework/cpu_allocator_impl.cc:83] Allocation of 1415577600 exceeds 10% of free system memory.\n",
      "2023-05-23 12:12:17.675901: W tensorflow/tsl/framework/cpu_allocator_impl.cc:83] Allocation of 1415577600 exceeds 10% of free system memory.\n",
      "2023-05-23 12:12:18.642177: W tensorflow/tsl/framework/cpu_allocator_impl.cc:83] Allocation of 1415577600 exceeds 10% of free system memory.\n"
     ]
    },
    {
     "name": "stdout",
     "output_type": "stream",
     "text": [
      "Time taken for epoch 1 is 36.18565535545349 sec\n",
      "\n",
      "Time taken for epoch 2 is 27.130826473236084 sec\n",
      "\n",
      "Time taken for epoch 3 is 26.711768627166748 sec\n",
      "\n",
      "Time taken for epoch 4 is 26.759963750839233 sec\n",
      "\n",
      "Time taken for epoch 5 is 26.563067197799683 sec\n",
      "\n",
      "Time taken for epoch 6 is 26.628970623016357 sec\n",
      "\n",
      "Time taken for epoch 7 is 26.637016534805298 sec\n",
      "\n",
      "Time taken for epoch 8 is 26.949480056762695 sec\n",
      "\n",
      "Time taken for epoch 9 is 26.91608452796936 sec\n",
      "\n",
      "Time taken for epoch 10 is 26.92707395553589 sec\n",
      "\n",
      "Time taken for epoch 11 is 26.713533639907837 sec\n",
      "\n",
      "Time taken for epoch 12 is 27.26187491416931 sec\n",
      "\n",
      "Time taken for epoch 13 is 26.93463134765625 sec\n",
      "\n",
      "Time taken for epoch 14 is 27.115775108337402 sec\n",
      "\n",
      "Time taken for epoch 15 is 26.883575201034546 sec\n",
      "\n",
      "Time taken for epoch 16 is 26.583178758621216 sec\n",
      "\n",
      "Time taken for epoch 17 is 26.675984144210815 sec\n",
      "\n",
      "Time taken for epoch 18 is 27.306248664855957 sec\n",
      "\n",
      "Time taken for epoch 19 is 26.698092699050903 sec\n",
      "\n",
      "Time taken for epoch 20 is 26.69513750076294 sec\n",
      "\n",
      "Time taken for epoch 21 is 26.61558198928833 sec\n",
      "\n",
      "Time taken for epoch 22 is 26.63372015953064 sec\n",
      "\n",
      "Time taken for epoch 23 is 26.636247634887695 sec\n",
      "\n",
      "Time taken for epoch 24 is 26.70256018638611 sec\n",
      "\n",
      "Time taken for epoch 25 is 26.861512422561646 sec\n",
      "\n",
      "Time taken for epoch 26 is 26.970746517181396 sec\n",
      "\n",
      "Time taken for epoch 27 is 26.691025972366333 sec\n",
      "\n",
      "Time taken for epoch 28 is 26.625967264175415 sec\n",
      "\n",
      "Time taken for epoch 29 is 26.642866373062134 sec\n",
      "\n",
      "Time taken for epoch 30 is 26.664100646972656 sec\n",
      "\n",
      "Time taken for epoch 31 is 26.672224760055542 sec\n",
      "\n",
      "Time taken for epoch 32 is 26.729912281036377 sec\n",
      "\n",
      "Time taken for epoch 33 is 26.680845737457275 sec\n",
      "\n",
      "Time taken for epoch 34 is 26.68924570083618 sec\n",
      "\n",
      "Time taken for epoch 35 is 26.94028091430664 sec\n",
      "\n",
      "Time taken for epoch 36 is 27.026029109954834 sec\n",
      "\n",
      "Time taken for epoch 37 is 26.70740795135498 sec\n",
      "\n",
      "Time taken for epoch 38 is 26.808140516281128 sec\n",
      "\n",
      "Time taken for epoch 39 is 26.804301261901855 sec\n",
      "\n",
      "Time taken for epoch 40 is 27.057236194610596 sec\n",
      "\n",
      "Time taken for epoch 41 is 27.007420539855957 sec\n",
      "\n",
      "Time taken for epoch 42 is 26.757465600967407 sec\n",
      "\n",
      "Time taken for epoch 43 is 27.13500690460205 sec\n",
      "\n",
      "Time taken for epoch 44 is 27.331623554229736 sec\n",
      "\n",
      "Time taken for epoch 45 is 26.84685778617859 sec\n",
      "\n"
     ]
    }
   ],
   "source": [
    "for epoch in range(epochs):\n",
    "    iterations = int(all_data[0].shape[0] / batch_size)\n",
    "    start = time.time()\n",
    "\n",
    "    for iteration in range(iterations):\n",
    "        cond_gan.train_step(all_data, batch_size)\n",
    "        \n",
    "    if (epoch + 1) % 50 == 0:\n",
    "        generate_images(generator, epoch, z_dim)\n",
    "        cond_gan.save_weights('./checkpoints/my_checkpoint')\n",
    "        \n",
    "    if (epoch + 1) % 250 == 0:\n",
    "        clear_output(wait=True)\n",
    "        \n",
    "    print ('Time taken for epoch {} is {} sec\\n'.format(epoch + 1,\n",
    "                                                      time.time()-start))"
   ]
  },
  {
   "cell_type": "code",
   "execution_count": null,
   "id": "e5c0df30",
   "metadata": {},
   "outputs": [],
   "source": []
  },
  {
   "cell_type": "code",
   "execution_count": null,
   "id": "035b4895",
   "metadata": {},
   "outputs": [],
   "source": []
  },
  {
   "cell_type": "code",
   "execution_count": null,
   "id": "0e86043a",
   "metadata": {},
   "outputs": [],
   "source": []
  },
  {
   "cell_type": "code",
   "execution_count": null,
   "id": "4de66871",
   "metadata": {},
   "outputs": [],
   "source": []
  },
  {
   "cell_type": "code",
   "execution_count": null,
   "id": "0a49f17d",
   "metadata": {},
   "outputs": [],
   "source": []
  },
  {
   "cell_type": "code",
   "execution_count": null,
   "id": "e942c389",
   "metadata": {},
   "outputs": [],
   "source": []
  },
  {
   "cell_type": "code",
   "execution_count": null,
   "id": "320fba43",
   "metadata": {},
   "outputs": [],
   "source": [
    "pip list"
   ]
  },
  {
   "cell_type": "code",
   "execution_count": null,
   "id": "1b020379",
   "metadata": {},
   "outputs": [],
   "source": [
    "!pip install tensorflow==2.12"
   ]
  },
  {
   "cell_type": "code",
   "execution_count": null,
   "id": "884e66ad",
   "metadata": {},
   "outputs": [],
   "source": []
  },
  {
   "cell_type": "code",
   "execution_count": null,
   "id": "19667d69",
   "metadata": {},
   "outputs": [],
   "source": [
    "from tensorflow.python.client import device_lib"
   ]
  },
  {
   "cell_type": "code",
   "execution_count": null,
   "id": "c020e38d",
   "metadata": {},
   "outputs": [],
   "source": [
    "device_lib.list_local_devices()"
   ]
  },
  {
   "cell_type": "code",
   "execution_count": null,
   "id": "52e9cb95",
   "metadata": {},
   "outputs": [],
   "source": []
  }
 ],
 "metadata": {
  "kernelspec": {
   "display_name": "Python 3 (ipykernel)",
   "language": "python",
   "name": "python3"
  },
  "language_info": {
   "codemirror_mode": {
    "name": "ipython",
    "version": 3
   },
   "file_extension": ".py",
   "mimetype": "text/x-python",
   "name": "python",
   "nbconvert_exporter": "python",
   "pygments_lexer": "ipython3",
   "version": "3.9.16"
  }
 },
 "nbformat": 4,
 "nbformat_minor": 5
}
